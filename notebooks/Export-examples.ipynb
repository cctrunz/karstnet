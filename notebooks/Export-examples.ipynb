{
 "cells": [
  {
   "cell_type": "code",
   "execution_count": 1,
   "metadata": {},
   "outputs": [],
   "source": [
    "import karstnet as kn\n",
    "import networkx as nx\n",
    "import numpy as np"
   ]
  },
  {
   "cell_type": "code",
   "execution_count": 2,
   "metadata": {},
   "outputs": [
    {
     "name": "stdout",
     "output_type": "stream",
     "text": [
      "Therion Import -- Importing all links (including splays) -- 0.4155597686767578s\n",
      "Therion Import -- Importing all nodes data (including splays) -- 0.43192362785339355s\n",
      "Therion Import -- Create initial graph with all the data points (including splays) -- 0.49908971786499023s\n",
      "Therion Import -- Combine Stations with identical x,y,z -- 0.6293799877166748s\n",
      "0/7294 unique positions\n",
      "1000/7294 unique positions\n",
      "2000/7294 unique positions\n",
      "3000/7294 unique positions\n",
      "4000/7294 unique positions\n",
      "5000/7294 unique positions\n",
      "6000/7294 unique positions\n",
      "7000/7294 unique positions\n",
      "Therion Import -- Rename nodes -- 9.534615993499756s\n",
      "0/7294 nodes to rename\n",
      "1000/7294 nodes to rename\n",
      "2000/7294 nodes to rename\n",
      "3000/7294 nodes to rename\n",
      "4000/7294 nodes to rename\n",
      "5000/7294 nodes to rename\n",
      "6000/7294 nodes to rename\n",
      "7000/7294 nodes to rename\n",
      "Therion Import -- concatenate old ic in a dictionnary -- 9.600112676620483s\n",
      "Therion Import -- Relabel nodes -- 9.602110862731934s\n",
      "Therion Import -- remove self links -- 9.620110273361206s\n",
      "Therion Import --add dictionnaries to graph -- 9.620110273361206s\n",
      "Therion Import -- add splays -- 9.620110273361206s\n",
      "Therion Import -- add fulladdress -- 10.013020753860474s\n",
      "Therion Import -- add flags\n",
      "Therion Import -- add sql ids -- 22.4916775226593s\n",
      "Therion Import -- remove isolated nodes -- 22.495999574661255s\n",
      "There is  1 connected components in the original graph\n",
      "There is  21 connected components in the graph without flagged edges\n"
     ]
    }
   ],
   "source": [
    "#load graph graph data\n",
    "G = kn.from_therion_sql_enhanced('../data/Migovec.sql',\n",
    "                                cavename = 'Migovec', \n",
    "                                crs = 'epsg:3912', \n",
    "                                rights = 'CC-BY-NC-SA 4.0',\n",
    "                                citation = 'ICCC, & JSDPT. (2024). Survey Data for the Tolminski Migovec Cave Exploration project (Version 2024.03.13) [Dataset]. Zenodo. https://doi.org/DOI: 10.5281/ZENODO.108130')\n",
    "# G = kn.from_therion_sql_enhanced('../data/BreznoNaToscu.sql')\n",
    "\n",
    "H = G.copy()\n",
    "kn.remove_flagged_edges(H)\n",
    "\n",
    "disco_keys = kn.find_disconnected_node(G, H)"
   ]
  },
  {
   "cell_type": "code",
   "execution_count": 3,
   "metadata": {},
   "outputs": [],
   "source": [
    "\n",
    "export_path = \"../data/\"\n",
    "filename = G.graph['cavename']\n",
    "\n",
    "\n",
    "# export the original dataset to compare\n",
    "kn.export_to_gocad(G, data_type = 'lines', #or 'points'\n",
    "                   properties = ['connected_component_number'],                       \n",
    "                    name = export_path +'gocad_rawlines_'+filename\n",
    "                    )\n",
    "\n",
    "# export the clean line data\n",
    "kn.export_to_gocad(H, data_type = 'lines', #or 'points'\n",
    "                    name = export_path +'gocad_cleanlines_'+filename\n",
    "                    )\n",
    "\n",
    "# export the clean node data\n",
    "kn.export_to_gocad(H, data_type = 'points', #or 'points'\n",
    "                   properties = ['height', 'width'],\n",
    "                    name = export_path +'gocad_cleanpoints_'+filename\n",
    "                    )\n",
    "\n",
    "#export the keys identified as disconnected\n",
    "kn.export_to_gocad(H, data_type = 'points', #or 'points'\n",
    "                    name = export_path +'gocad_disokeys_'+filename,\n",
    "                    node_id = disco_keys\n",
    "                    )\n"
   ]
  }
 ],
 "metadata": {
  "kernelspec": {
   "display_name": "karstnet_celia_geopandas",
   "language": "python",
   "name": "python3"
  },
  "language_info": {
   "codemirror_mode": {
    "name": "ipython",
    "version": 3
   },
   "file_extension": ".py",
   "mimetype": "text/x-python",
   "name": "python",
   "nbconvert_exporter": "python",
   "pygments_lexer": "ipython3",
   "version": "3.12.3"
  }
 },
 "nbformat": 4,
 "nbformat_minor": 2
}
