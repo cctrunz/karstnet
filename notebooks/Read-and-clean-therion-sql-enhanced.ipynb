{
 "cells": [
  {
   "cell_type": "code",
   "execution_count": 7,
   "metadata": {},
   "outputs": [],
   "source": [
    "import karstnet as kn\n",
    "import networkx as nx"
   ]
  },
  {
   "cell_type": "markdown",
   "metadata": {},
   "source": [
    "# Import and cleaning function for Therion SQL import\n",
    "\n",
    "This function ```from_therion_sql_enhanced```\n",
    "1. Loads all the data from Therion sql, \n",
    "2. add flags on shots and stations,\n",
    "3. regroupe nodes with same exact geographic coordinates,\n",
    "4. rename nodes\n",
    "5. returns a networkx graph.\n",
    "\n",
    "The functions ```add_edges```, ```flag_nodes```, ```flag_edges```, ```remove_flagged_edges```:\n",
    "1. enable to create edges and add manual flags on both edges and nodes\n",
    "2. remove nodes with srf, dpl, rmv, art, or spl flags and add flagged add edges\n",
    "\n",
    "The karstnet Kgraph object is created with the kn function ```from_nxGraph```  (!!! all the properties created with the function ```from_therion_sql_enhanced``` are lost when importing into the Kgraph object)\n"
   ]
  },
  {
   "cell_type": "markdown",
   "metadata": {},
   "source": [
    "# Simple import example with Cave Rêve Eveillé"
   ]
  },
  {
   "cell_type": "markdown",
   "metadata": {},
   "source": [
    "# Clean and add flags\n",
    "\n",
    "It is possible to create edges and import flags on the nodes or edges.\n",
    "1. To create one or multiple edges, create dictionnary with the flag as key, and a list of list of node id as values.\n",
    "    - To create edges that should stay on the graph, use the flag 'add', or any other flags that are not \n",
    "    - If the flags : 'srf', 'dpl', 'rmv', 'art', 'spl' are use then they will be, by default removed from the graph\n",
    "2. To add a node flag, create a dictionnary with the flag as key, and a list of node id to flag.\n",
    "2. If the edge or node already exist, then a flag will be added edge or node\n",
    "\n",
    "the node id are the full address, which is the full path describing the station in the sql file. this full address can be found in the  ```fulladdress``` dictionnary attached to the graph\n",
    "\n",
    "### Flags\n",
    "\n",
    "Therion node (station) flags: \n",
    "- ```ent``` = entrance\n",
    "- ```con``` = continuation\n",
    "- ```fix``` = fixed \n",
    "- ```spr``` = spring\n",
    "- ```sin``` = sink\n",
    "- ```dol``` = doline\n",
    "- ```dig``` = dig \n",
    "- ```air``` = air-draught\n",
    "- ```ove``` = overhang\n",
    "- ```arc``` = arch attributes  \n",
    "\n",
    "Therion edge (shot) flags:\n",
    "- ```dpl``` = duplicate\n",
    "- ```srf``` = surface shots \n",
    "\n",
    "Other edge flags:\n",
    "- ```add``` = add\n",
    "- ```rmv``` = remove\n",
    "- ```art``` = artificial (ex. tunnel)\n",
    "- ```spl``` = splay (for example star shape shots in large rooms)"
   ]
  },
  {
   "cell_type": "markdown",
   "metadata": {},
   "source": [
    "# Example with the Slovenian cave Migovec dataset, \n",
    "Survey data reference: ICCC, & JSDPT. (2024). Survey Data for the Tolminski Migovec Cave Exploration project (Version 2024.03.13) [Dataset]. Zenodo. https://doi.org/DOI: 10.5281/ZENODO.108130"
   ]
  },
  {
   "cell_type": "code",
   "execution_count": 8,
   "metadata": {},
   "outputs": [
    {
     "name": "stdout",
     "output_type": "stream",
     "text": [
      "Therion Import -- Importing all links (including splays) -- 0.4792978763580322s\n",
      "Therion Import -- Importing all nodes data (including splays) -- 0.5018997192382812s\n",
      "Therion Import -- Create initial graph with all the data points (including splays) -- 0.5770606994628906s\n",
      "Therion Import -- Combine Stations with identical x,y,z -- 0.7804543972015381s\n",
      "0/7294 unique positions\n",
      "1000/7294 unique positions\n",
      "2000/7294 unique positions\n",
      "3000/7294 unique positions\n",
      "4000/7294 unique positions\n",
      "5000/7294 unique positions\n",
      "6000/7294 unique positions\n",
      "7000/7294 unique positions\n",
      "Therion Import -- Rename nodes -- 10.249723434448242s\n",
      "0/7294 nodes to rename\n",
      "1000/7294 nodes to rename\n",
      "2000/7294 nodes to rename\n",
      "3000/7294 nodes to rename\n",
      "4000/7294 nodes to rename\n",
      "5000/7294 nodes to rename\n",
      "6000/7294 nodes to rename\n",
      "7000/7294 nodes to rename\n",
      "Therion Import -- concatenate old ic in a dictionnary -- 10.313060998916626s\n",
      "Therion Import -- Relabel nodes -- 10.314060926437378s\n",
      "Therion Import -- remove self links -- 10.396050930023193s\n",
      "Therion Import --add dictionnaries to graph -- 10.398058414459229s\n",
      "Therion Import -- add splays -- 10.398058414459229s\n",
      "Therion Import -- add fulladdress -- 10.784203290939331s\n",
      "Therion Import -- add flags\n",
      "Therion Import -- add sql ids -- 22.090149879455566s\n",
      "Therion Import -- remove isolated nodes -- 22.095436811447144s\n"
     ]
    }
   ],
   "source": [
    "#load graph graph data\n",
    "G = kn.from_therion_sql_enhanced('../data/Migovec.sql',\n",
    "                                cavename = 'Migovec', \n",
    "                                crs = 'epsg:3912', \n",
    "                                rights = 'CC-BY-NC-SA 4.0',\n",
    "                                citation = 'ICCC, & JSDPT. (2024). Survey Data for the Tolminski Migovec Cave Exploration project (Version 2024.03.13) [Dataset]. Zenodo. https://doi.org/DOI: 10.5281/ZENODO.108130')\n"
   ]
  },
  {
   "cell_type": "markdown",
   "metadata": {},
   "source": [
    "## Example: Clean graph from duplicates and surface points flagged in the Therion sql file."
   ]
  },
  {
   "cell_type": "code",
   "execution_count": 9,
   "metadata": {},
   "outputs": [
    {
     "name": "stdout",
     "output_type": "stream",
     "text": [
      "Initial Graph size: 7294, Graph size after removing flagged edges: 6977\n"
     ]
    }
   ],
   "source": [
    "# clean flagged edges\n",
    "H= G.copy()\n",
    "kn.remove_flagged_edges(H) # in this case, removing the flagged duplicate and surface points disconnected parts from each other\n",
    "print(f'Initial Graph size: {len(G)}, Graph size after removing flagged edges: {len(H)}')\n",
    "# Kg = kn.from_nxGraph(H, dict(H.nodes('pos')), properties=None, verbose=True)\n",
    "\n",
    "# Kg.plot()"
   ]
  },
  {
   "cell_type": "markdown",
   "metadata": {},
   "source": [
    "<!-- ## Example: Adding flags on edges and creating new edes -->"
   ]
  },
  {
   "cell_type": "markdown",
   "metadata": {},
   "source": [
    "## Example: Adding flags on the edges\n",
    "if the edges flagged does not exist, the function creates the edge"
   ]
  },
  {
   "cell_type": "code",
   "execution_count": 10,
   "metadata": {},
   "outputs": [
    {
     "name": "stdout",
     "output_type": "stream",
     "text": [
      "Therion Import - adding manual edges flags: dict_keys(['add', 'rmv'])\n",
      "add\n",
      "rmv\n",
      "Graph size after flaggind edges and before removing: nodes=7294, edges=7377\n",
      "Initial Graph size: nodes=7294, edges=7353\n",
      "Graph size after removing flagged edges: nodes=6977, edges=6992\n",
      "Graph size after flaggind edges: nodes=6973, edges=7012\n",
      "\n",
      " This network contains  1  connected components\n",
      "Warning: This network contains  4 looping branche.s Tortuosity is infinite on a looping branch. The looping branches are not considered for the mean tortuosity computation\n",
      "\n"
     ]
    }
   ],
   "source": [
    "import karstnet as kn\n",
    "flagged_edges = {'add': [  ['system_migovec.vrtnarija_vilinska.vrtnarija.xanadont.2','system_migovec.vrtnarija_vilinska.vrtnarija.cuckoos_nest.35'],\n",
    "                                    ['system_migovec.vrtnarija_vilinska.vrtnarija.highway32.12','system_migovec.vrtnarija_vilinska.vrtnarija.gravity.2'],\n",
    "                                    ['system_migovec.m2m16m18.M16.glory.5','system_migovec.m2m16m18.M16.god.27'],\n",
    "                                    ['system_migovec.m2m16m18.M16.god.19','system_migovec.m2m16m18.M16.glory.11'],\n",
    "                                    ['system_migovec.primadona_ubend_mona_tip.mona_tip.mona_tip2.31', 'system_migovec.primadona_ubend_mona_tip.mona_tip.cloacamaxima.49'],\n",
    "                                    ['system_migovec.m2m16m18.M16.glory.16','system_migovec.m2m16m18.M16.god.15'],\n",
    "                                    ['system_migovec.m2m16m18.M16.teotihuacan.13','system_migovec.m2m16m18.M16.god.17'],\n",
    "                                    ['system_migovec.vrtnarija_vilinska.vrtnarija.keti.8','system_migovec.vrtnarija_vilinska.vrtnarija.intravenus_de_milo.1'],\n",
    "                                    ['system_migovec.vrtnarija_vilinska.vrtnarija.kill_em_all.12','system_migovec.vrtnarija_vilinska.vrtnarija.metal_aven.10'],\n",
    "                                    ['system_migovec.vrtnarija_vilinska.vilinska.vilcon.4','system_migovec.vrtnarija_vilinska.vrtnarija.judge.8'],\n",
    "                                    ['system_migovec.vrtnarija_vilinska.vrtnarija.perfidia.14','system_migovec.vrtnarija_vilinska.vrtnarija.cow.1'],\n",
    "                                    ['system_migovec.vrtnarija_vilinska.vrtnarija.perfidia.7','system_migovec.vrtnarija_vilinska.vrtnarija.republica.16'],\n",
    "                                    ['system_migovec.primadona_ubend_mona_tip.primadona.polnoletna.26','system_migovec.primadona_ubend_mona_tip.primadona.milanova.8'],\n",
    "                                    ['system_migovec.primadona_ubend_mona_tip.primadona.entirely_my_fault.16','system_migovec.primadona_ubend_mona_tip.primadona.karstaway.7'],\n",
    "                                    ['system_migovec.primadona_ubend_mona_tip.primadona.more_like_welding.3','system_migovec.primadona_ubend_mona_tip.primadona.mfi.3'],\n",
    "                                    ['system_migovec.primadona_ubend_mona_tip.primadona.TTTr.3','system_migovec.primadona_ubend_mona_tip.primadona.what_a_coincidence.1'],\n",
    "                                    ['system_migovec.primadona_ubend_mona_tip.primadona.ajdovscina.1','system_migovec.primadona_ubend_mona_tip.primadona.TTTr.8'],\n",
    "                                    ['system_migovec.primadona_ubend_mona_tip.primadona.milanova.9','system_migovec.primadona_ubend_mona_tip.primadona.polnoletna.26'],\n",
    "                                    ['system_migovec.primadona_ubend_mona_tip.primadona.poseidon_rift.6','system_migovec.primadona_ubend_mona_tip.primadona.street-wise_hercules.8'],\n",
    "                                    ['system_migovec.primadona_ubend_mona_tip.primadona.sweet_baby_jesus.22','system_migovec.primadona_ubend_mona_tip.primadona.hallelujah.1'],\n",
    "                                    ['system_migovec.primadona_ubend_mona_tip.primadona.upotyn.8','system_migovec.primadona_ubend_mona_tip.primadona.plumbers_paradise.24'],\n",
    "                                    ['system_migovec.primadona_ubend_mona_tip.primadona.plumbers_paradise.25','system_migovec.primadona_ubend_mona_tip.primadona.fenestrator.8'],\n",
    "                                    ['system_migovec.primadona_ubend_mona_tip.primadona.apple_crumble.22','system_migovec.primadona_ubend_mona_tip.primadona.pov.15'],\n",
    "                                    ['system_migovec.primadona_ubend_mona_tip.primadona.dejavu.1','system_migovec.primadona_ubend_mona_tip.primadona.zima00.17'],\n",
    "                                    ['system_migovec.primadona_ubend_mona_tip.primadona.jack_of_hearts.29','system_migovec.primadona_ubend_mona_tip.primadona.smer0.37'],\n",
    "                                    ['system_migovec.primadona_ubend_mona_tip.primadona.pivnica_resurvey.12','system_migovec.primadona_ubend_mona_tip.primadona.zima00.3']],\n",
    "                              'rmv': [['system_migovec.vrtnarija_vilinska.vrtnarija.xanadont.2','system_migovec.vrtnarija_vilinska.vrtnarija.xanadont.1'],\n",
    "                                    ['system_migovec.primadona_ubend_mona_tip.mona_tip.mona_tip2.35','system_migovec.primadona_ubend_mona_tip.mona_tip.cloacamaxima.45'],\n",
    "                                    ['system_migovec.primadona_ubend_mona_tip.mona_tip.cloacamaxima.45','system_migovec.primadona_ubend_mona_tip.mona_tip.cloacamaxima.46'],\n",
    "                                    ['system_migovec.primadona_ubend_mona_tip.mona_tip.cloacamaxima.46','system_migovec.primadona_ubend_mona_tip.mona_tip.cloacamaxima.47']]}\n",
    "\n",
    "\n",
    "# this function add flags on edges. if the edge does not exist, it creates it\n",
    "I = G.copy()\n",
    "kn.flag_edges(I, flagged_edges, dict_address = nx.get_node_attributes(I,'fulladdress'))\n",
    "print(f'Graph size after flaggind edges and before removing: nodes={len(I)}, edges={I.size()}')\n",
    "kn.remove_flagged_edges(I)\n",
    "\n",
    "print(f'Initial Graph size: nodes={len(G)}, edges={G.size()}')\n",
    "print(f'Graph size after removing flagged edges: nodes={len(H)}, edges={H.size()}') \n",
    "print(f'Graph size after flaggind edges: nodes={len(I)}, edges={I.size()}')\n",
    "# Kg = kn.from_nxGraph(G, dict(G.nodes('pos')), properties=None, verbose=True)\n",
    "Kg = kn.from_nxGraph(I, dict(I.nodes('pos')), properties=None, verbose=True)"
   ]
  },
  {
   "cell_type": "markdown",
   "metadata": {},
   "source": [
    "## Example: Adding flags on the nodes"
   ]
  },
  {
   "cell_type": "code",
   "execution_count": 2,
   "metadata": {},
   "outputs": [
    {
     "name": "stdout",
     "output_type": "stream",
     "text": [
      "Therion Import -- Importing all links (including splays) -- 0.04222989082336426s\n",
      "Therion Import -- Importing all nodes data (including splays) -- 0.04222989082336426s\n",
      "Therion Import -- Create initial graph with all the data points (including splays) -- 0.04222989082336426s\n",
      "Therion Import -- Combine Stations with identical x,y,z -- 0.06078457832336426s\n",
      "0/78 unique positions\n",
      "Therion Import -- Rename nodes -- 0.061763763427734375s\n",
      "0/78 nodes to rename\n",
      "Therion Import -- concatenate old ic in a dictionnary -- 0.061763763427734375s\n",
      "Therion Import -- Relabel nodes -- 0.061763763427734375s\n",
      "Therion Import -- remove self links -- 0.061763763427734375s\n",
      "Therion Import --add dictionnaries to graph -- 0.061763763427734375s\n",
      "Therion Import -- add splays -- 0.061763763427734375s\n",
      "Therion Import -- add fulladdress -- 0.06967544555664062s\n",
      "Therion Import -- add flags\n",
      "Therion Import -- add sql ids -- 0.14014124870300293s\n",
      "Therion Import -- remove isolated nodes -- 0.14014124870300293s\n",
      "Therion Import - adding manual node flags: dict_keys(['con', 'inl', 'oul', 'smp', 'wtf'])\n"
     ]
    },
    {
     "data": {
      "image/png": "[encoded data removed]",
      "text/plain": [
       "<Figure size 640x480 with 1 Axes>"
      ]
     },
     "metadata": {},
     "output_type": "display_data"
    }
   ],
   "source": [
    "\n",
    "G = kn.from_therion_sql_enhanced('../data/ReveEveille.sql',\n",
    "                                # optional input that are stored as metadata on the graph\n",
    "                                cavename = 'ReveEveille', \n",
    "                                crs = 'local', \n",
    "                                rights = 'CC-BY-NC-SA 4.0',\n",
    "                                citation = 'Centre Terre. (2024). Survey Data for the Ultima Patagonia Cave Exploration project [Dataset]. https://github.com/tr1813/ultima-patag')\n",
    "\n",
    "flagged_nodes = {  'con': ['ReveEveille.cpff.23', 'ReveEveille.Suite.9'],\n",
    "                    'inl': ['ReveEveille.CPF.4', 'ReveEveille.cpff.4', 'ReveEveille.cpff.38', 'ReveEveille.cpff.30'],\n",
    "                    'oul': ['ReveEveille.Suite.16'],\n",
    "                    'smp': ['ReveEveille.Suite.24'],\n",
    "                    'wtf': ['ReveEveille.Suite.14']}\n",
    "\n",
    "\n",
    "kn.flag_nodes(G, flagged_nodes, dict_address = nx.get_node_attributes(G,'fulladdress'))\n",
    "\n",
    "labels = nx.get_node_attributes(G, 'flags') \n",
    "nx.draw(G,\n",
    "        pos = kn.get_pos2d(G),\n",
    "        labels = labels,\n",
    "        node_size = 10)\n",
    "\n"
   ]
  }
 ],
 "metadata": {
  "kernelspec": {
   "display_name": "karstnet_celia",
   "language": "python",
   "name": "python3"
  },
  "language_info": {
   "codemirror_mode": {
    "name": "ipython",
    "version": 3
   },
   "file_extension": ".py",
   "mimetype": "text/x-python",
   "name": "python",
   "nbconvert_exporter": "python",
   "pygments_lexer": "ipython3",
   "version": "3.12.3"
  }
 },
 "nbformat": 4,
 "nbformat_minor": 2
}
